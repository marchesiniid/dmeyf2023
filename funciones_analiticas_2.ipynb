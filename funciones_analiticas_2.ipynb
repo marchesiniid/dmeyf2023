{
 "cells": [
  {
   "cell_type": "code",
   "execution_count": null,
   "metadata": {},
   "outputs": [],
   "source": [
    "%%bash\n",
    "pip install --upgrade duckdb\n",
    "pip install --upgrade jupysql\n",
    "pip install --upgrade duckdb-engine"
   ]
  },
  {
   "cell_type": "code",
   "execution_count": null,
   "metadata": {},
   "outputs": [],
   "source": [
    "import duckdb\n",
    "import pandas as pd\n",
    "\n",
    "%load_ext sql\n",
    "%config SqlMagic.autopandas = True\n",
    "%config SqlMagic.feedback = False\n",
    "%config SqlMagic.displaycon = False\n",
    "\n",
    "%sql duckdb:///dmeyf2023/dmeyf.db\n"
   ]
  },
  {
   "cell_type": "code",
   "execution_count": null,
   "metadata": {},
   "outputs": [],
   "source": [
    "%%sql\n",
    "create or replace table competencia_02 as\n",
    "select\n",
    "    *\n",
    "from read_csv_auto('competencia_02_ternaria.csv.gz')\n"
   ]
  },
  {
   "cell_type": "code",
   "execution_count": null,
   "metadata": {},
   "outputs": [],
   "source": [
    "%%sql\n",
    "select\n",
    "  numero_de_cliente\n",
    "  , foto_mes\n",
    "  , ctrx_quarter\n",
    "  , lag(ctrx_quarter, 1) over (partition by numero_de_cliente order by foto_mes) as lag_1_ctrx_quarter\n",
    "from competencia_02\n",
    "limit 10"
   ]
  },
  {
   "cell_type": "code",
   "execution_count": null,
   "metadata": {},
   "outputs": [],
   "source": [
    "%%sql\n",
    "select\n",
    "  numero_de_cliente\n",
    "  , foto_mes\n",
    "  , ctrx_quarter\n",
    "  , lag(ctrx_quarter, 1) over (partition by numero_de_cliente order by foto_mes) as lag_1_ctrx_quarter\n",
    "  , ctrx_quarter - lag_1_ctrx_quarter as delta_1_ctrx_quarter\n",
    "  , ctrx_quarter - lag(ctrx_quarter, 2) over (partition by numero_de_cliente order by foto_mes) as lag_2_ctrx_quarter\n",
    "from competencia_02\n",
    "limit 10"
   ]
  },
  {
   "cell_type": "code",
   "execution_count": null,
   "metadata": {},
   "outputs": [],
   "source": [
    "\n",
    "%%sql\n",
    "select\n",
    "  numero_de_cliente\n",
    "  , foto_mes\n",
    "  , ctrx_quarter\n",
    "  , avg(ctrx_quarter) over (partition by numero_de_cliente\n",
    "                            order by foto_mes\n",
    "                            rows between 6 preceding and current row) as avg_6_ctrx_quarter\n",
    "from competencia_02\n",
    "limit 10"
   ]
  },
  {
   "cell_type": "code",
   "execution_count": null,
   "metadata": {},
   "outputs": [],
   "source": [
    "%%sql\n",
    "select\n",
    "  numero_de_cliente\n",
    "  , foto_mes\n",
    "  , ctrx_quarter\n",
    "  , avg(ctrx_quarter) over ventana_6 as ctrx_quarter_media_6\n",
    "  , max(ctrx_quarter) over ventana_6 as ctrx_quarter_max_6\n",
    "  , min(ctrx_quarter) over ventana_6 as ctrx_quarter_min_6\n",
    "from competencia_02\n",
    "window ventana_6 as (partition by numero_de_cliente order by foto_mes rows between 6 preceding and current row)\n",
    "limit 10"
   ]
  },
  {
   "cell_type": "code",
   "execution_count": null,
   "metadata": {},
   "outputs": [],
   "source": [
    "%%sql\n",
    "select\n",
    "  numero_de_cliente\n",
    "  , foto_mes\n",
    "  , ctrx_quarter\n",
    "  ,regr_slope(ctrx_quarter, cliente_antiguedad) over ventana_6 as ctrx_quarter_slope_6\n",
    "from competencia_02\n",
    "window ventana_6 as (partition by numero_de_cliente order by foto_mes rows between 6 preceding and current row)\n",
    "limit 10"
   ]
  },
  {
   "cell_type": "code",
   "execution_count": null,
   "metadata": {},
   "outputs": [],
   "source": [
    "campos = ['active_quarter', 'cliente_vip', 'internet', 'cliente_edad', 'cliente_antiguedad', 'mrentabilidad', 'mrentabilidad_annual', 'mcomisiones', 'mactivos_margen', 'mpasivos_margen', 'cproductos', 'tcuentas', 'ccuenta_corriente', 'mcuenta_corriente_adicional', 'mcuenta_corriente', 'ccaja_ahorro', 'mcaja_ahorro', 'mcaja_ahorro_adicional', 'mcaja_ahorro_dolares', 'cdescubierto_preacordado', 'mcuentas_saldo', 'ctarjeta_debito', 'ctarjeta_debito_transacciones', 'mautoservicio', 'ctarjeta_visa', 'ctarjeta_visa_transacciones', 'mtarjeta_visa_consumo', 'ctarjeta_master', 'ctarjeta_master_transacciones', 'mtarjeta_master_consumo', 'cprestamos_personales', 'mprestamos_personales', 'cprestamos_prendarios', 'mprestamos_prendarios', 'cprestamos_hipotecarios', 'mprestamos_hipotecarios', 'cplazo_fijo', 'mplazo_fijo_dolares', 'mplazo_fijo_pesos', 'cinversion1', 'minversion1_pesos', 'minversion1_dolares', 'cinversion2', 'minversion2', 'cseguro_vida', 'cseguro_auto', 'cseguro_vivienda', 'cseguro_accidentes_personales', 'ccaja_seguridad', 'cpayroll_trx', 'mpayroll', 'mpayroll2', 'cpayroll2_trx', 'ccuenta_debitos_automaticos', 'mcuenta_debitos_automaticos', 'ctarjeta_visa_debitos_automaticos', 'mttarjeta_visa_debitos_automaticos', 'ctarjeta_master_debitos_automaticos', 'mttarjeta_master_debitos_automaticos', 'cpagodeservicios', 'mpagodeservicios', 'cpagomiscuentas', 'mpagomiscuentas', 'ccajeros_propios_descuentos', 'mcajeros_propios_descuentos', 'ctarjeta_visa_descuentos', 'mtarjeta_visa_descuentos', 'ctarjeta_master_descuentos', 'mtarjeta_master_descuentos', 'ccomisiones_mantenimiento', 'mcomisiones_mantenimiento', 'ccomisiones_otras', 'mcomisiones_otras', 'cforex', 'cforex_buy', 'mforex_buy', 'cforex_sell', 'mforex_sell', 'ctransferencias_recibidas', 'mtransferencias_recibidas', 'ctransferencias_emitidas', 'mtransferencias_emitidas', 'cextraccion_autoservicio', 'mextraccion_autoservicio', 'ccheques_depositados', 'mcheques_depositados', 'ccheques_emitidos', 'mcheques_emitidos', 'ccheques_depositados_rechazados', 'mcheques_depositados_rechazados', 'ccheques_emitidos_rechazados', 'mcheques_emitidos_rechazados', 'tcallcenter', 'ccallcenter_transacciones', 'thomebanking', 'chomebanking_transacciones', 'ccajas_transacciones', 'ccajas_consultas', 'ccajas_depositos', 'ccajas_extracciones', 'ccajas_otras', 'catm_trx', 'matm', 'catm_trx_other', 'matm_other', 'ctrx_quarter', 'Master_delinquency', 'Master_status', 'Master_mfinanciacion_limite', 'Master_Fvencimiento', 'Master_Finiciomora', 'Master_msaldototal', 'Master_msaldopesos', 'Master_msaldodolares', 'Master_mconsumospesos', 'Master_mconsumosdolares', 'Master_mlimitecompra', 'Master_madelantopesos', 'Master_madelantodolares', 'Master_fultimo_cierre', 'Master_mpagado', 'Master_mpagospesos', 'Master_mpagosdolares', 'Master_fechaalta', 'Master_mconsumototal', 'Master_cconsumos', 'Master_cadelantosefectivo', 'Master_mpagominimo', 'Visa_delinquency', 'Visa_status', 'Visa_mfinanciacion_limite', 'Visa_Fvencimiento', 'Visa_Finiciomora', 'Visa_msaldototal', 'Visa_msaldopesos', 'Visa_msaldodolares', 'Visa_mconsumospesos', 'Visa_mconsumosdolares', 'Visa_mlimitecompra', 'Visa_madelantopesos', 'Visa_madelantodolares', 'Visa_fultimo_cierre', 'Visa_mpagado', 'Visa_mpagospesos', 'Visa_mpagosdolares', 'Visa_fechaalta', 'Visa_mconsumototal', 'Visa_cconsumos', 'Visa_cadelantosefectivo', 'Visa_mpagominimo']\n",
    "nuevos_features = \"\"\n",
    "for campo in campos:\n",
    "  nuevos_features += f\"\\n, regr_slope({campo}, cliente_antiguedad) over ventana_6 as ctrx_{campo}_slope_6\"\n",
    "print(nuevos_features)\n"
   ]
  },
  {
   "cell_type": "code",
   "execution_count": null,
   "metadata": {},
   "outputs": [],
   "source": [
    "%%sql\n",
    "select * from competencia_02 limit 10"
   ]
  },
  {
   "cell_type": "code",
   "execution_count": null,
   "metadata": {},
   "outputs": [],
   "source": [
    "%%sql\n",
    "select cproductos, tcuentas, ccuenta_corriente, mpasivos_margen, mcuenta_corriente_adicional, mcuenta_corriente, ccaja_ahorro, mcaja_ahorro, mcaja_ahorro_adicional, mcaja_ahorro_dolares, cdescubierto_preacordado, mcuentas_saldo, ctarjeta_debito, ctarjeta_debito_transacciones from competencia_02 limit 10 "
   ]
  },
  {
   "cell_type": "code",
   "execution_count": null,
   "metadata": {},
   "outputs": [],
   "source": [
    "%%sql\n",
    "select numero_de_cliente, foto_mes, ctrx_quarter, regr_slope(mrentabilidad, cliente_antiguedad) over ventana_6 as ctrx_mrentabilidad_slope_6\n",
    ", regr_slope(mrentabilidad_annual, cliente_antiguedad) over ventana_6 as ctrx_mrentabilidad_annual_slope_6\n",
    ", regr_slope(mcomisiones, cliente_antiguedad) over ventana_6 as ctrx_mcomisiones_slope_6\n",
    ", regr_slope(mactivos_margen, cliente_antiguedad) over ventana_6 as ctrx_mactivos_margen_slope_6\n",
    ", regr_slope(mpasivos_margen, cliente_antiguedad) over ventana_6 as ctrx_mpasivos_margen_slope_6\n",
    ", regr_slope(cproductos, cliente_antiguedad) over ventana_6 as ctrx_cproductos_slope_6\n",
    ", regr_slope(mcuenta_corriente, cliente_antiguedad) over ventana_6 as ctrx_mcuenta_corriente_slope_6\n",
    ", regr_slope(mcaja_ahorro, cliente_antiguedad) over ventana_6 as ctrx_mcaja_ahorro_slope_6\n",
    ", regr_slope(mcaja_ahorro_adicional, cliente_antiguedad) over ventana_6 as ctrx_mcaja_ahorro_adicional_slope_6\n",
    ", regr_slope(mcaja_ahorro_dolares, cliente_antiguedad) over ventana_6 as ctrx_mcaja_ahorro_dolares_slope_6\n",
    ", regr_slope(mcuentas_saldo, cliente_antiguedad) over ventana_6 as ctrx_mcuentas_saldo_slope_6\n",
    ", regr_slope(mautoservicio, cliente_antiguedad) over ventana_6 as ctrx_mautoservicio_slope_6\n",
    ", regr_slope(mtarjeta_visa_consumo, cliente_antiguedad) over ventana_6 as ctrx_mtarjeta_visa_consumo_slope_6\n",
    ", regr_slope(mtarjeta_master_consumo, cliente_antiguedad) over ventana_6 as ctrx_mtarjeta_master_consumo_slope_6\n",
    ", regr_slope(mprestamos_personales, cliente_antiguedad) over ventana_6 as ctrx_mprestamos_personales_slope_6\n",
    ", regr_slope(mprestamos_prendarios, cliente_antiguedad) over ventana_6 as ctrx_mprestamos_prendarios_slope_6\n",
    ", regr_slope(mprestamos_hipotecarios, cliente_antiguedad) over ventana_6 as ctrx_mprestamos_hipotecarios_slope_6\n",
    ", regr_slope(mplazo_fijo_dolares, cliente_antiguedad) over ventana_6 as ctrx_mplazo_fijo_dolares_slope_6\n",
    ", regr_slope(mplazo_fijo_pesos, cliente_antiguedad) over ventana_6 as ctrx_mplazo_fijo_pesos_slope_6\n",
    ", regr_slope(minversion1_pesos, cliente_antiguedad) over ventana_6 as ctrx_minversion1_pesos_slope_6\n",
    ", regr_slope(minversion1_dolares, cliente_antiguedad) over ventana_6 as ctrx_minversion1_dolares_slope_6\n",
    ", regr_slope(minversion2, cliente_antiguedad) over ventana_6 as ctrx_minversion2_slope_6\n",
    ", regr_slope(mpayroll, cliente_antiguedad) over ventana_6 as ctrx_mpayroll_slope_6\n",
    ", regr_slope(mpayroll2, cliente_antiguedad) over ventana_6 as ctrx_mpayroll2_slope_6\n",
    ", regr_slope(mcuenta_debitos_automaticos, cliente_antiguedad) over ventana_6 as ctrx_mcuenta_debitos_automaticos_slope_6\n",
    ", regr_slope(mttarjeta_visa_debitos_automaticos, cliente_antiguedad) over ventana_6 as ctrx_mttarjeta_visa_debitos_automaticos_slope_6\n",
    ", regr_slope(mttarjeta_master_debitos_automaticos, cliente_antiguedad) over ventana_6 as ctrx_mttarjeta_master_debitos_automaticos_slope_6\n",
    ", regr_slope(mpagodeservicios, cliente_antiguedad) over ventana_6 as ctrx_mpagodeservicios_slope_6\n",
    ", regr_slope(mpagomiscuentas, cliente_antiguedad) over ventana_6 as ctrx_mpagomiscuentas_slope_6\n",
    ", regr_slope(mcajeros_propios_descuentos, cliente_antiguedad) over ventana_6 as ctrx_mcajeros_propios_descuentos_slope_6\n",
    ", regr_slope(mtarjeta_visa_descuentos, cliente_antiguedad) over ventana_6 as ctrx_mtarjeta_visa_descuentos_slope_6\n",
    ", regr_slope(mtarjeta_master_descuentos, cliente_antiguedad) over ventana_6 as ctrx_mtarjeta_master_descuentos_slope_6\n",
    ", regr_slope(mcomisiones_mantenimiento, cliente_antiguedad) over ventana_6 as ctrx_mcomisiones_mantenimiento_slope_6\n",
    ", regr_slope(mcomisiones_otras, cliente_antiguedad) over ventana_6 as ctrx_mcomisiones_otras_slope_6\n",
    ", regr_slope(mforex_buy, cliente_antiguedad) over ventana_6 as ctrx_mforex_buy_slope_6\n",
    ", regr_slope(mforex_sell, cliente_antiguedad) over ventana_6 as ctrx_mforex_sell_slope_6\n",
    ", regr_slope(mtransferencias_recibidas, cliente_antiguedad) over ventana_6 as ctrx_mtransferencias_recibidas_slope_6\n",
    ", regr_slope(mtransferencias_emitidas, cliente_antiguedad) over ventana_6 as ctrx_mtransferencias_emitidas_slope_6\n",
    ", regr_slope(mextraccion_autoservicio, cliente_antiguedad) over ventana_6 as ctrx_mextraccion_autoservicio_slope_6\n",
    ", regr_slope(mcheques_depositados, cliente_antiguedad) over ventana_6 as ctrx_mcheques_depositados_slope_6\n",
    ", regr_slope(mcheques_emitidos, cliente_antiguedad) over ventana_6 as ctrx_mcheques_emitidos_slope_6\n",
    ", regr_slope(mcheques_depositados_rechazados, cliente_antiguedad) over ventana_6 as ctrx_mcheques_depositados_rechazados_slope_6\n",
    ", regr_slope(mcheques_emitidos_rechazados, cliente_antiguedad) over ventana_6 as ctrx_mcheques_emitidos_rechazados_slope_6\n",
    ", regr_slope(matm, cliente_antiguedad) over ventana_6 as ctrx_matm_slope_6\n",
    ", regr_slope(matm_other, cliente_antiguedad) over ventana_6 as ctrx_matm_other_slope_6\n",
    ", regr_slope(ctrx_quarter, cliente_antiguedad) over ventana_6 as ctrx_ctrx_quarter_slope_6\n",
    ", regr_slope(Master_mfinanciacion_limite, cliente_antiguedad) over ventana_6 as ctrx_Master_mfinanciacion_limite_slope_6\n",
    ", regr_slope(Master_msaldototal, cliente_antiguedad) over ventana_6 as ctrx_Master_msaldototal_slope_6\n",
    ", regr_slope(Master_msaldopesos, cliente_antiguedad) over ventana_6 as ctrx_Master_msaldopesos_slope_6\n",
    ", regr_slope(Master_msaldodolares, cliente_antiguedad) over ventana_6 as ctrx_Master_msaldodolares_slope_6\n",
    ", regr_slope(Master_mconsumospesos, cliente_antiguedad) over ventana_6 as ctrx_Master_mconsumospesos_slope_6\n",
    ", regr_slope(Master_mconsumosdolares, cliente_antiguedad) over ventana_6 as ctrx_Master_mconsumosdolares_slope_6\n",
    ", regr_slope(Master_mlimitecompra, cliente_antiguedad) over ventana_6 as ctrx_Master_mlimitecompra_slope_6\n",
    ", regr_slope(Master_madelantopesos, cliente_antiguedad) over ventana_6 as ctrx_Master_madelantopesos_slope_6\n",
    ", regr_slope(Master_madelantodolares, cliente_antiguedad) over ventana_6 as ctrx_Master_madelantodolares_slope_6\n",
    ", regr_slope(Master_mpagado, cliente_antiguedad) over ventana_6 as ctrx_Master_mpagado_slope_6\n",
    ", regr_slope(Master_mpagospesos, cliente_antiguedad) over ventana_6 as ctrx_Master_mpagospesos_slope_6\n",
    ", regr_slope(Master_mpagosdolares, cliente_antiguedad) over ventana_6 as ctrx_Master_mpagosdolares_slope_6\n",
    ", regr_slope(Master_mconsumototal, cliente_antiguedad) over ventana_6 as ctrx_Master_mconsumototal_slope_6\n",
    ", regr_slope(Master_mpagominimo, cliente_antiguedad) over ventana_6 as ctrx_Master_mpagominimo_slope_6\n",
    ", regr_slope(Visa_mfinanciacion_limite, cliente_antiguedad) over ventana_6 as ctrx_Visa_mfinanciacion_limite_slope_6\n",
    ", regr_slope(Visa_msaldototal, cliente_antiguedad) over ventana_6 as ctrx_Visa_msaldototal_slope_6\n",
    ", regr_slope(Visa_msaldopesos, cliente_antiguedad) over ventana_6 as ctrx_Visa_msaldopesos_slope_6\n",
    ", regr_slope(Visa_msaldodolares, cliente_antiguedad) over ventana_6 as ctrx_Visa_msaldodolares_slope_6\n",
    ", regr_slope(Visa_mconsumospesos, cliente_antiguedad) over ventana_6 as ctrx_Visa_mconsumospesos_slope_6\n",
    ", regr_slope(Visa_mconsumosdolares, cliente_antiguedad) over ventana_6 as ctrx_Visa_mconsumosdolares_slope_6\n",
    ", regr_slope(Visa_mlimitecompra, cliente_antiguedad) over ventana_6 as ctrx_Visa_mlimitecompra_slope_6\n",
    ", regr_slope(Visa_madelantopesos, cliente_antiguedad) over ventana_6 as ctrx_Visa_madelantopesos_slope_6\n",
    ", regr_slope(Visa_madelantodolares, cliente_antiguedad) over ventana_6 as ctrx_Visa_madelantodolares_slope_6\n",
    ", regr_slope(Visa_mpagado, cliente_antiguedad) over ventana_6 as ctrx_Visa_mpagado_slope_6\n",
    ", regr_slope(Visa_mpagospesos, cliente_antiguedad) over ventana_6 as ctrx_Visa_mpagospesos_slope_6\n",
    ", regr_slope(Visa_mpagosdolares, cliente_antiguedad) over ventana_6 as ctrx_Visa_mpagosdolares_slope_6\n",
    ", regr_slope(Visa_mconsumototal, cliente_antiguedad) over ventana_6 as ctrx_Visa_mconsumototal_slope_6\n",
    ", regr_slope(Visa_mpagominimo, cliente_antiguedad) over ventana_6 as ctrx_Visa_mpagominimo_slope_6\n",
    "from competencia_02 \n",
    "window ventana_6 as (partition by numero_de_cliente order by foto_mes rows between 6 preceding and current row)\n",
    "limit 10"
   ]
  }
 ],
 "metadata": {
  "language_info": {
   "name": "python"
  },
  "orig_nbformat": 4
 },
 "nbformat": 4,
 "nbformat_minor": 2
}
