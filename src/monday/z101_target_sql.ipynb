{
 "cells": [
  {
   "cell_type": "markdown",
   "metadata": {},
   "source": [
    "# Crear Target\n",
    "\n",
    "## Ejercicio 1:\n",
    "Cree el archivo `competencia_01.csv`, usando el `competencia_01_crudo.csv` con una variable adicional llamada `clase_ternaria`, que contenga las categorías **CONTINUA**, **BAJA+1** y **BAJA+2** \n",
    "\n",
    "### Ayudita \n",
    "\n",
    "Para practicar el muy útil y necesario lenguaje **SQL**, vamos a utilizar una base de datos **OLAP** llamada **DuckDB**. \n",
    "\n",
    "La documentación la puede encontrar [aquí](https://duckdb.org/docs/archive/0.8.1/sql/introduction)\n",
    "Procedemos a instalarla, esto se debe ejecutar una sola vez"
   ]
  },
  {
   "cell_type": "code",
   "execution_count": 1,
   "metadata": {},
   "outputs": [
    {
     "name": "stdout",
     "output_type": "stream",
     "text": [
      "Microsoft Windows [Version 10.0.22621.1992]\n",
      "(c) Microsoft Corporation. All rights reserved.\n",
      "\n",
      "c:\\Users\\Administrator\\Documents\\MaestriaDataMining\\dmeyf2023\\dmeyf2023\\src\\monday>pip install duckdb\n"
     ]
    },
    {
     "name": "stdout",
     "output_type": "stream",
     "text": [
      "Collecting duckdb\n",
      "  Obtaining dependency information for duckdb from https://files.pythonhosted.org/packages/ee/af/e3fdfa4776124e797d8303f85f3bd97e17f7a1aa1a90189b545369d267d1/duckdb-0.8.1-cp311-cp311-win_amd64.whl.metadata\n",
      "  Downloading duckdb-0.8.1-cp311-cp311-win_amd64.whl.metadata (774 bytes)\n",
      "Downloading duckdb-0.8.1-cp311-cp311-win_amd64.whl (9.8 MB)\n",
      "   ---------------------------------------- 9.8/9.8 MB 9.4 MB/s eta 0:00:0017\n",
      "Installing collected packages: duckdb\n",
      "Successfully installed duckdb-0.8.1\n",
      "\n",
      "c:\\Users\\Administrator\\Documents\\MaestriaDataMining\\dmeyf2023\\dmeyf2023\\src\\monday>pip install jupysql\n",
      "Collecting jupysql\n",
      "  Obtaining dependency information for jupysql from https://files.pythonhosted.org/packages/4e/6e/9ee71876e8ec2ab04946d7a8d0ea55ede56aa40075f586bf35bc404f4629/jupysql-0.10.1-py3-none-any.whl.metadata\n",
      "  Downloading jupysql-0.10.1-py3-none-any.whl.metadata (5.6 kB)\n",
      "Collecting prettytable (from jupysql)\n",
      "  Obtaining dependency information for prettytable from https://files.pythonhosted.org/packages/25/1e/4c284713b092ec384fad4399452f43f6446ad9aabc9c0b3c3c0920cc53b6/prettytable-3.8.0-py3-none-any.whl.metadata\n",
      "  Downloading prettytable-3.8.0-py3-none-any.whl.metadata (26 kB)\n",
      "Requirement already satisfied: ipython in c:\\users\\administrator\\appdata\\roaming\\python\\python311\\site-packages (from jupysql) (8.15.0)\n",
      "Collecting sqlalchemy (from jupysql)\n",
      "  Obtaining dependency information for sqlalchemy from https://files.pythonhosted.org/packages/10/81/230bec5713913a472003b71c8dd7e3572de44499e741df576fd6b39d82c8/SQLAlchemy-2.0.20-cp311-cp311-win_amd64.whl.metadata\n",
      "  Downloading SQLAlchemy-2.0.20-cp311-cp311-win_amd64.whl.metadata (9.7 kB)\n",
      "Collecting sqlparse (from jupysql)\n",
      "  Downloading sqlparse-0.4.4-py3-none-any.whl (41 kB)\n",
      "     ---------------------------------------- 41.2/41.2 kB 1.9 MB/s eta 0:00:00\n",
      "Collecting ipython-genutils>=0.1.0 (from jupysql)\n",
      "  Downloading ipython_genutils-0.2.0-py2.py3-none-any.whl (26 kB)\n",
      "Collecting sqlglot (from jupysql)\n",
      "  Obtaining dependency information for sqlglot from https://files.pythonhosted.org/packages/fe/1f/884ca85be75ce2139080c8f9d8e1464f0ca67081c43167df9955abc3461f/sqlglot-18.1.0-py3-none-any.whl.metadata\n",
      "  Downloading sqlglot-18.1.0-py3-none-any.whl.metadata (15 kB)\n",
      "Requirement already satisfied: jinja2 in c:\\users\\administrator\\appdata\\roaming\\python\\python311\\site-packages (from jupysql) (3.1.2)\n",
      "Collecting ploomber-core>=0.2.7 (from jupysql)\n",
      "  Obtaining dependency information for ploomber-core>=0.2.7 from https://files.pythonhosted.org/packages/12/3b/6c0b6e07ddfa759f925a030353ba98f1f23ab45ea04a0c4b8888e2ef93b6/ploomber_core-0.2.14-py3-none-any.whl.metadata\n",
      "  Downloading ploomber_core-0.2.14-py3-none-any.whl.metadata (498 bytes)\n",
      "Collecting click (from ploomber-core>=0.2.7->jupysql)\n",
      "  Obtaining dependency information for click from https://files.pythonhosted.org/packages/00/2e/d53fa4befbf2cfa713304affc7ca780ce4fc1fd8710527771b58311a3229/click-8.1.7-py3-none-any.whl.metadata\n",
      "  Downloading click-8.1.7-py3-none-any.whl.metadata (3.0 kB)\n",
      "Requirement already satisfied: pyyaml in c:\\users\\administrator\\appdata\\roaming\\python\\python311\\site-packages (from ploomber-core>=0.2.7->jupysql) (6.0.1)\n",
      "Collecting posthog (from ploomber-core>=0.2.7->jupysql)\n",
      "  Obtaining dependency information for posthog from https://files.pythonhosted.org/packages/a7/73/35758818228c70348be4c3c66a76653c62e894e0e3c3461453c5341ca926/posthog-3.0.2-py2.py3-none-any.whl.metadata\n",
      "  Downloading posthog-3.0.2-py2.py3-none-any.whl.metadata (2.0 kB)\n",
      "Requirement already satisfied: backcall in c:\\users\\administrator\\appdata\\roaming\\python\\python311\\site-packages (from ipython->jupysql) (0.2.0)\n",
      "Requirement already satisfied: decorator in c:\\users\\administrator\\appdata\\roaming\\python\\python311\\site-packages (from ipython->jupysql) (5.1.1)\n",
      "Requirement already satisfied: jedi>=0.16 in c:\\users\\administrator\\appdata\\roaming\\python\\python311\\site-packages (from ipython->jupysql) (0.19.0)\n",
      "Requirement already satisfied: matplotlib-inline in c:\\users\\administrator\\appdata\\roaming\\python\\python311\\site-packages (from ipython->jupysql) (0.1.6)\n",
      "Requirement already satisfied: pickleshare in c:\\users\\administrator\\appdata\\roaming\\python\\python311\\site-packages (from ipython->jupysql) (0.7.5)\n",
      "Requirement already satisfied: prompt-toolkit!=3.0.37,<3.1.0,>=3.0.30 in c:\\users\\administrator\\appdata\\roaming\\python\\python311\\site-packages (from ipython->jupysql) (3.0.39)\n",
      "Requirement already satisfied: pygments>=2.4.0 in c:\\users\\administrator\\appdata\\roaming\\python\\python311\\site-packages (from ipython->jupysql) (2.16.1)\n",
      "Requirement already satisfied: stack-data in c:\\users\\administrator\\appdata\\roaming\\python\\python311\\site-packages (from ipython->jupysql) (0.6.2)\n",
      "Requirement already satisfied: traitlets>=5 in c:\\users\\administrator\\appdata\\roaming\\python\\python311\\site-packages (from ipython->jupysql) (5.9.0)\n",
      "Requirement already satisfied: colorama in c:\\users\\administrator\\appdata\\roaming\\python\\python311\\site-packages (from ipython->jupysql) (0.4.6)\n",
      "Requirement already satisfied: MarkupSafe>=2.0 in c:\\users\\administrator\\appdata\\roaming\\python\\python311\\site-packages (from jinja2->jupysql) (2.1.3)\n",
      "Requirement already satisfied: wcwidth in c:\\users\\administrator\\appdata\\roaming\\python\\python311\\site-packages (from prettytable->jupysql) (0.2.6)\n",
      "Collecting typing-extensions>=4.2.0 (from sqlalchemy->jupysql)\n",
      "  Obtaining dependency information for typing-extensions>=4.2.0 from https://files.pythonhosted.org/packages/ec/6b/63cc3df74987c36fe26157ee12e09e8f9db4de771e0f3404263117e75b95/typing_extensions-4.7.1-py3-none-any.whl.metadata\n",
      "  Downloading typing_extensions-4.7.1-py3-none-any.whl.metadata (3.1 kB)\n",
      "Collecting greenlet!=0.4.17 (from sqlalchemy->jupysql)\n",
      "  Downloading greenlet-2.0.2-cp311-cp311-win_amd64.whl (192 kB)\n",
      "     ------------------------------------- 192.5/192.5 kB 11.4 MB/s eta 0:00:00\n",
      "Requirement already satisfied: parso<0.9.0,>=0.8.3 in c:\\users\\administrator\\appdata\\roaming\\python\\python311\\site-packages (from jedi>=0.16->ipython->jupysql) (0.8.3)\n",
      "Requirement already satisfied: requests<3.0,>=2.7 in c:\\users\\administrator\\appdata\\roaming\\python\\python311\\site-packages (from posthog->ploomber-core>=0.2.7->jupysql) (2.31.0)\n",
      "Requirement already satisfied: six>=1.5 in c:\\users\\administrator\\appdata\\roaming\\python\\python311\\site-packages (from posthog->ploomber-core>=0.2.7->jupysql) (1.16.0)\n",
      "Collecting monotonic>=1.5 (from posthog->ploomber-core>=0.2.7->jupysql)\n",
      "  Downloading monotonic-1.6-py2.py3-none-any.whl (8.2 kB)\n",
      "Collecting backoff>=1.10.0 (from posthog->ploomber-core>=0.2.7->jupysql)\n",
      "  Downloading backoff-2.2.1-py3-none-any.whl (15 kB)\n",
      "Requirement already satisfied: python-dateutil>2.1 in c:\\users\\administrator\\appdata\\roaming\\python\\python311\\site-packages (from posthog->ploomber-core>=0.2.7->jupysql) (2.8.2)\n",
      "Requirement already satisfied: executing>=1.2.0 in c:\\users\\administrator\\appdata\\roaming\\python\\python311\\site-packages (from stack-data->ipython->jupysql) (1.2.0)\n",
      "Requirement already satisfied: asttokens>=2.1.0 in c:\\users\\administrator\\appdata\\roaming\\python\\python311\\site-packages (from stack-data->ipython->jupysql) (2.2.1)\n",
      "Requirement already satisfied: pure-eval in c:\\users\\administrator\\appdata\\roaming\\python\\python311\\site-packages (from stack-data->ipython->jupysql) (0.2.2)\n",
      "Requirement already satisfied: charset-normalizer<4,>=2 in c:\\users\\administrator\\appdata\\roaming\\python\\python311\\site-packages (from requests<3.0,>=2.7->posthog->ploomber-core>=0.2.7->jupysql) (3.2.0)\n",
      "Requirement already satisfied: idna<4,>=2.5 in c:\\users\\administrator\\appdata\\roaming\\python\\python311\\site-packages (from requests<3.0,>=2.7->posthog->ploomber-core>=0.2.7->jupysql) (3.4)\n",
      "Requirement already satisfied: urllib3<3,>=1.21.1 in c:\\users\\administrator\\appdata\\roaming\\python\\python311\\site-packages (from requests<3.0,>=2.7->posthog->ploomber-core>=0.2.7->jupysql) (2.0.4)\n",
      "Requirement already satisfied: certifi>=2017.4.17 in c:\\users\\administrator\\appdata\\roaming\\python\\python311\\site-packages (from requests<3.0,>=2.7->posthog->ploomber-core>=0.2.7->jupysql) (2023.7.22)\n",
      "Downloading jupysql-0.10.1-py3-none-any.whl (86 kB)\n",
      "   ---------------------------------------- 86.6/86.6 kB 5.1 MB/s eta 0:00:00\n",
      "Downloading ploomber_core-0.2.14-py3-none-any.whl (21 kB)\n",
      "Downloading sqlglot-18.1.0-py3-none-any.whl (299 kB)\n",
      "   --------------------------------------- 299.6/299.6 kB 18.1 MB/s eta 0:00:00\n",
      "Downloading prettytable-3.8.0-py3-none-any.whl (27 kB)\n",
      "Downloading SQLAlchemy-2.0.20-cp311-cp311-win_amd64.whl (2.0 MB)\n",
      "   ---------------------------------------- 2.0/2.0 MB 32.9 MB/s eta 0:00:00\n",
      "Downloading typing_extensions-4.7.1-py3-none-any.whl (33 kB)\n",
      "Downloading click-8.1.7-py3-none-any.whl (97 kB)\n",
      "   ---------------------------------------- 97.9/97.9 kB 5.8 MB/s eta 0:00:00\n",
      "Downloading posthog-3.0.2-py2.py3-none-any.whl (37 kB)\n",
      "Installing collected packages: sqlglot, monotonic, ipython-genutils, typing-extensions, sqlparse, prettytable, greenlet, click, backoff, sqlalchemy, posthog, ploomber-core, jupysql\n",
      "Successfully installed backoff-2.2.1 click-8.1.7 greenlet-2.0.2 ipython-genutils-0.2.0 jupysql-0.10.1 monotonic-1.6 ploomber-core-0.2.14 posthog-3.0.2 prettytable-3.8.0 sqlalchemy-2.0.20 sqlglot-18.1.0 sqlparse-0.4.4 typing-extensions-4.7.1\n",
      "\n",
      "c:\\Users\\Administrator\\Documents\\MaestriaDataMining\\dmeyf2023\\dmeyf2023\\src\\monday>pip install duckdb-engine\n",
      "Collecting duckdb-engine\n",
      "  Obtaining dependency information for duckdb-engine from https://files.pythonhosted.org/packages/f3/6c/17298ff413db694b87ce0e3eea1685ffe47987fb64e46cd6b673bac53177/duckdb_engine-0.9.2-py3-none-any.whl.metadata\n",
      "  Downloading duckdb_engine-0.9.2-py3-none-any.whl.metadata (6.8 kB)\n",
      "Requirement already satisfied: duckdb>=0.4.0 in c:\\users\\administrator\\appdata\\local\\programs\\python\\python311\\lib\\site-packages (from duckdb-engine) (0.8.1)\n",
      "Requirement already satisfied: sqlalchemy>=1.3.22 in c:\\users\\administrator\\appdata\\local\\programs\\python\\python311\\lib\\site-packages (from duckdb-engine) (2.0.20)\n",
      "Requirement already satisfied: typing-extensions>=4.2.0 in c:\\users\\administrator\\appdata\\local\\programs\\python\\python311\\lib\\site-packages (from sqlalchemy>=1.3.22->duckdb-engine) (4.7.1)\n",
      "Requirement already satisfied: greenlet!=0.4.17 in c:\\users\\administrator\\appdata\\local\\programs\\python\\python311\\lib\\site-packages (from sqlalchemy>=1.3.22->duckdb-engine) (2.0.2)\n",
      "Downloading duckdb_engine-0.9.2-py3-none-any.whl (43 kB)\n",
      "   ---------------------------------------- 43.1/43.1 kB 298.8 kB/s eta 0:00:00\n",
      "Installing collected packages: duckdb-engine\n",
      "Successfully installed duckdb-engine-0.9.2\n",
      "\n",
      "c:\\Users\\Administrator\\Documents\\MaestriaDataMining\\dmeyf2023\\dmeyf2023\\src\\monday>"
     ]
    }
   ],
   "source": [
    "%%cmd \n",
    "pip install duckdb\n",
    "pip install jupysql\n",
    "pip install duckdb-engine"
   ]
  },
  {
   "cell_type": "markdown",
   "metadata": {},
   "source": [
    "Configuramos el entorno de ejecución. Si ya tiene todo instalado, solo necesita ejecutar esta celda para empezar a usar **duckdb** "
   ]
  },
  {
   "cell_type": "code",
   "execution_count": 2,
   "metadata": {},
   "outputs": [
    {
     "name": "stdout",
     "output_type": "stream",
     "text": [
      "Microsoft Windows [Version 10.0.22621.1992]\n",
      "(c) Microsoft Corporation. All rights reserved.\n",
      "\n",
      "c:\\Users\\Administrator\\Documents\\MaestriaDataMining\\dmeyf2023\\dmeyf2023\\src\\monday>pip install pandas\n",
      "Collecting pandas\n",
      "  Obtaining dependency information for pandas from https://files.pythonhosted.org/packages/b7/f8/32d6b5aa4c4bc045fa2c4c58f88c325facc54721956c6313f0afea8ea853/pandas-2.1.0-cp311-cp311-win_amd64.whl.metadata\n",
      "  Downloading pandas-2.1.0-cp311-cp311-win_amd64.whl.metadata (18 kB)\n",
      "Collecting numpy>=1.23.2 (from pandas)\n",
      "  Obtaining dependency information for numpy>=1.23.2 from https://files.pythonhosted.org/packages/72/b2/02770e60c4e2f7e158d923ab0dea4e9f146a2dbf267fec6d8dc61d475689/numpy-1.25.2-cp311-cp311-win_amd64.whl.metadata\n",
      "  Downloading numpy-1.25.2-cp311-cp311-win_amd64.whl.metadata (5.7 kB)\n",
      "Requirement already satisfied: python-dateutil>=2.8.2 in c:\\users\\administrator\\appdata\\roaming\\python\\python311\\site-packages (from pandas) (2.8.2)\n",
      "Collecting pytz>=2020.1 (from pandas)\n",
      "  Downloading pytz-2023.3-py2.py3-none-any.whl (502 kB)\n",
      "     -------------------------------------- 502.3/502.3 kB 7.8 MB/s eta 0:00:00\n",
      "Collecting tzdata>=2022.1 (from pandas)\n",
      "  Downloading tzdata-2023.3-py2.py3-none-any.whl (341 kB)\n",
      "     ------------------------------------- 341.8/341.8 kB 22.1 MB/s eta 0:00:00\n",
      "Requirement already satisfied: six>=1.5 in c:\\users\\administrator\\appdata\\roaming\\python\\python311\\site-packages (from python-dateutil>=2.8.2->pandas) (1.16.0)\n",
      "Downloading pandas-2.1.0-cp311-cp311-win_amd64.whl (11.0 MB)\n",
      "   ---------------------------------------- 11.0/11.0 MB 31.2 MB/s eta 0:00:00\n",
      "Downloading numpy-1.25.2-cp311-cp311-win_amd64.whl (15.5 MB)\n",
      "   ---------------------------------------- 15.5/15.5 MB 28.5 MB/s eta 0:00:00\n",
      "Installing collected packages: pytz, tzdata, numpy, pandas\n",
      "Successfully installed numpy-1.25.2 pandas-2.1.0 pytz-2023.3 tzdata-2023.3\n",
      "\n",
      "c:\\Users\\Administrator\\Documents\\MaestriaDataMining\\dmeyf2023\\dmeyf2023\\src\\monday>"
     ]
    }
   ],
   "source": [
    "%%cmd\n",
    "--pip install pandas"
   ]
  },
  {
   "cell_type": "code",
   "execution_count": 1,
   "metadata": {},
   "outputs": [],
   "source": [
    "import duckdb\n",
    "import pandas as pd\n",
    "\n",
    "%load_ext sql\n",
    "%config SqlMagic.autopandas = True\n",
    "%config SqlMagic.feedback = False\n",
    "%config SqlMagic.displaycon = False\n",
    "\n",
    "%sql duckdb:///:default:"
   ]
  },
  {
   "cell_type": "markdown",
   "metadata": {},
   "source": [
    "Y ya podemos usar **SQL** dentro de una notebook!"
   ]
  },
  {
   "cell_type": "code",
   "execution_count": 2,
   "metadata": {},
   "outputs": [
    {
     "data": {
      "text/html": [
       "<div>\n",
       "<style scoped>\n",
       "    .dataframe tbody tr th:only-of-type {\n",
       "        vertical-align: middle;\n",
       "    }\n",
       "\n",
       "    .dataframe tbody tr th {\n",
       "        vertical-align: top;\n",
       "    }\n",
       "\n",
       "    .dataframe thead th {\n",
       "        text-align: right;\n",
       "    }\n",
       "</style>\n",
       "<table border=\"1\" class=\"dataframe\">\n",
       "  <thead>\n",
       "    <tr style=\"text-align: right;\">\n",
       "      <th></th>\n",
       "      <th>'hola mundo'</th>\n",
       "    </tr>\n",
       "  </thead>\n",
       "  <tbody>\n",
       "    <tr>\n",
       "      <th>0</th>\n",
       "      <td>hola mundo</td>\n",
       "    </tr>\n",
       "  </tbody>\n",
       "</table>\n",
       "</div>"
      ],
      "text/plain": [
       "  'hola mundo'\n",
       "0   hola mundo"
      ]
     },
     "execution_count": 2,
     "metadata": {},
     "output_type": "execute_result"
    }
   ],
   "source": [
    "%%sql\n",
    "select 'hola mundo' "
   ]
  },
  {
   "cell_type": "markdown",
   "metadata": {},
   "source": [
    "Para cargar el archivo `.csv` a una tabla:"
   ]
  },
  {
   "cell_type": "code",
   "execution_count": 3,
   "metadata": {},
   "outputs": [
    {
     "data": {
      "text/html": [
       "<div>\n",
       "<style scoped>\n",
       "    .dataframe tbody tr th:only-of-type {\n",
       "        vertical-align: middle;\n",
       "    }\n",
       "\n",
       "    .dataframe tbody tr th {\n",
       "        vertical-align: top;\n",
       "    }\n",
       "\n",
       "    .dataframe thead th {\n",
       "        text-align: right;\n",
       "    }\n",
       "</style>\n",
       "<table border=\"1\" class=\"dataframe\">\n",
       "  <thead>\n",
       "    <tr style=\"text-align: right;\">\n",
       "      <th></th>\n",
       "      <th>Success</th>\n",
       "    </tr>\n",
       "  </thead>\n",
       "  <tbody>\n",
       "  </tbody>\n",
       "</table>\n",
       "</div>"
      ],
      "text/plain": [
       "Empty DataFrame\n",
       "Columns: [Success]\n",
       "Index: []"
      ]
     },
     "execution_count": 3,
     "metadata": {},
     "output_type": "execute_result"
    }
   ],
   "source": [
    "%%sql\n",
    "create or replace table competencia_01 as \n",
    "select \n",
    "    *\n",
    "from read_csv_auto('C:\\Users\\Administrator\\Documents\\MaestriaDataMining\\dmeyf2023\\datasets\\competencia_01_crudo.csv')"
   ]
  },
  {
   "cell_type": "markdown",
   "metadata": {},
   "source": [
    "Hagamos unas queries básicas para comprobar que todo esta funcionando bien."
   ]
  },
  {
   "cell_type": "code",
   "execution_count": 6,
   "metadata": {},
   "outputs": [
    {
     "data": {
      "text/html": [
       "<div>\n",
       "<style scoped>\n",
       "    .dataframe tbody tr th:only-of-type {\n",
       "        vertical-align: middle;\n",
       "    }\n",
       "\n",
       "    .dataframe tbody tr th {\n",
       "        vertical-align: top;\n",
       "    }\n",
       "\n",
       "    .dataframe thead th {\n",
       "        text-align: right;\n",
       "    }\n",
       "</style>\n",
       "<table border=\"1\" class=\"dataframe\">\n",
       "  <thead>\n",
       "    <tr style=\"text-align: right;\">\n",
       "      <th></th>\n",
       "      <th>numero_de_cliente</th>\n",
       "      <th>foto_mes</th>\n",
       "      <th>active_quarter</th>\n",
       "      <th>cliente_vip</th>\n",
       "      <th>internet</th>\n",
       "      <th>cliente_edad</th>\n",
       "      <th>cliente_antiguedad</th>\n",
       "      <th>mrentabilidad</th>\n",
       "      <th>mrentabilidad_annual</th>\n",
       "      <th>mcomisiones</th>\n",
       "      <th>...</th>\n",
       "      <th>Visa_madelantodolares</th>\n",
       "      <th>Visa_fultimo_cierre</th>\n",
       "      <th>Visa_mpagado</th>\n",
       "      <th>Visa_mpagospesos</th>\n",
       "      <th>Visa_mpagosdolares</th>\n",
       "      <th>Visa_fechaalta</th>\n",
       "      <th>Visa_mconsumototal</th>\n",
       "      <th>Visa_cconsumos</th>\n",
       "      <th>Visa_cadelantosefectivo</th>\n",
       "      <th>Visa_mpagominimo</th>\n",
       "    </tr>\n",
       "  </thead>\n",
       "  <tbody>\n",
       "    <tr>\n",
       "      <th>0</th>\n",
       "      <td>29183981</td>\n",
       "      <td>202103</td>\n",
       "      <td>1</td>\n",
       "      <td>0</td>\n",
       "      <td>0</td>\n",
       "      <td>50</td>\n",
       "      <td>197</td>\n",
       "      <td>14468.81</td>\n",
       "      <td>125765.29</td>\n",
       "      <td>2389.82</td>\n",
       "      <td>...</td>\n",
       "      <td>0.0</td>\n",
       "      <td>7</td>\n",
       "      <td>0.00</td>\n",
       "      <td>-114954.00</td>\n",
       "      <td>0.00</td>\n",
       "      <td>5938</td>\n",
       "      <td>101050.66</td>\n",
       "      <td>68</td>\n",
       "      <td>0</td>\n",
       "      <td>71811.06</td>\n",
       "    </tr>\n",
       "    <tr>\n",
       "      <th>1</th>\n",
       "      <td>29184630</td>\n",
       "      <td>202103</td>\n",
       "      <td>1</td>\n",
       "      <td>0</td>\n",
       "      <td>0</td>\n",
       "      <td>59</td>\n",
       "      <td>322</td>\n",
       "      <td>11901.57</td>\n",
       "      <td>74158.93</td>\n",
       "      <td>18750.68</td>\n",
       "      <td>...</td>\n",
       "      <td>0.0</td>\n",
       "      <td>1</td>\n",
       "      <td>0.00</td>\n",
       "      <td>-40330.15</td>\n",
       "      <td>17.59</td>\n",
       "      <td>4089</td>\n",
       "      <td>26834.09</td>\n",
       "      <td>7</td>\n",
       "      <td>0</td>\n",
       "      <td>3894.36</td>\n",
       "    </tr>\n",
       "    <tr>\n",
       "      <th>2</th>\n",
       "      <td>29185433</td>\n",
       "      <td>202103</td>\n",
       "      <td>1</td>\n",
       "      <td>0</td>\n",
       "      <td>0</td>\n",
       "      <td>68</td>\n",
       "      <td>268</td>\n",
       "      <td>847.15</td>\n",
       "      <td>21672.47</td>\n",
       "      <td>481.62</td>\n",
       "      <td>...</td>\n",
       "      <td>0.0</td>\n",
       "      <td>21</td>\n",
       "      <td>4692.00</td>\n",
       "      <td>-1173.00</td>\n",
       "      <td>0.00</td>\n",
       "      <td>7829</td>\n",
       "      <td>1651.36</td>\n",
       "      <td>3</td>\n",
       "      <td>0</td>\n",
       "      <td>1560.09</td>\n",
       "    </tr>\n",
       "    <tr>\n",
       "      <th>3</th>\n",
       "      <td>29185587</td>\n",
       "      <td>202103</td>\n",
       "      <td>1</td>\n",
       "      <td>0</td>\n",
       "      <td>0</td>\n",
       "      <td>79</td>\n",
       "      <td>322</td>\n",
       "      <td>4976.94</td>\n",
       "      <td>47735.98</td>\n",
       "      <td>1839.31</td>\n",
       "      <td>...</td>\n",
       "      <td>0.0</td>\n",
       "      <td>1</td>\n",
       "      <td>0.00</td>\n",
       "      <td>-15988.67</td>\n",
       "      <td>0.00</td>\n",
       "      <td>7580</td>\n",
       "      <td>30025.29</td>\n",
       "      <td>11</td>\n",
       "      <td>0</td>\n",
       "      <td>1700.85</td>\n",
       "    </tr>\n",
       "    <tr>\n",
       "      <th>4</th>\n",
       "      <td>29185646</td>\n",
       "      <td>202103</td>\n",
       "      <td>1</td>\n",
       "      <td>0</td>\n",
       "      <td>0</td>\n",
       "      <td>60</td>\n",
       "      <td>257</td>\n",
       "      <td>2860.45</td>\n",
       "      <td>37800.71</td>\n",
       "      <td>4035.40</td>\n",
       "      <td>...</td>\n",
       "      <td>0.0</td>\n",
       "      <td>21</td>\n",
       "      <td>380616.14</td>\n",
       "      <td>-97383.25</td>\n",
       "      <td>0.00</td>\n",
       "      <td>7827</td>\n",
       "      <td>359610.70</td>\n",
       "      <td>31</td>\n",
       "      <td>0</td>\n",
       "      <td>15600.90</td>\n",
       "    </tr>\n",
       "  </tbody>\n",
       "</table>\n",
       "<p>5 rows × 154 columns</p>\n",
       "</div>"
      ],
      "text/plain": [
       "   numero_de_cliente  foto_mes  active_quarter  cliente_vip  internet  \\\n",
       "0           29183981    202103               1            0         0   \n",
       "1           29184630    202103               1            0         0   \n",
       "2           29185433    202103               1            0         0   \n",
       "3           29185587    202103               1            0         0   \n",
       "4           29185646    202103               1            0         0   \n",
       "\n",
       "   cliente_edad  cliente_antiguedad  mrentabilidad  mrentabilidad_annual  \\\n",
       "0            50                 197       14468.81             125765.29   \n",
       "1            59                 322       11901.57              74158.93   \n",
       "2            68                 268         847.15              21672.47   \n",
       "3            79                 322        4976.94              47735.98   \n",
       "4            60                 257        2860.45              37800.71   \n",
       "\n",
       "   mcomisiones  ...  Visa_madelantodolares  Visa_fultimo_cierre  Visa_mpagado  \\\n",
       "0      2389.82  ...                    0.0                    7          0.00   \n",
       "1     18750.68  ...                    0.0                    1          0.00   \n",
       "2       481.62  ...                    0.0                   21       4692.00   \n",
       "3      1839.31  ...                    0.0                    1          0.00   \n",
       "4      4035.40  ...                    0.0                   21     380616.14   \n",
       "\n",
       "   Visa_mpagospesos  Visa_mpagosdolares  Visa_fechaalta  Visa_mconsumototal  \\\n",
       "0        -114954.00                0.00            5938           101050.66   \n",
       "1         -40330.15               17.59            4089            26834.09   \n",
       "2          -1173.00                0.00            7829             1651.36   \n",
       "3         -15988.67                0.00            7580            30025.29   \n",
       "4         -97383.25                0.00            7827           359610.70   \n",
       "\n",
       "   Visa_cconsumos  Visa_cadelantosefectivo  Visa_mpagominimo  \n",
       "0              68                        0          71811.06  \n",
       "1               7                        0           3894.36  \n",
       "2               3                        0           1560.09  \n",
       "3              11                        0           1700.85  \n",
       "4              31                        0          15600.90  \n",
       "\n",
       "[5 rows x 154 columns]"
      ]
     },
     "execution_count": 6,
     "metadata": {},
     "output_type": "execute_result"
    }
   ],
   "source": [
    "%sql select * from competencia_01 limit 5"
   ]
  },
  {
   "cell_type": "code",
   "execution_count": 7,
   "metadata": {},
   "outputs": [
    {
     "data": {
      "text/html": [
       "<div>\n",
       "<style scoped>\n",
       "    .dataframe tbody tr th:only-of-type {\n",
       "        vertical-align: middle;\n",
       "    }\n",
       "\n",
       "    .dataframe tbody tr th {\n",
       "        vertical-align: top;\n",
       "    }\n",
       "\n",
       "    .dataframe thead th {\n",
       "        text-align: right;\n",
       "    }\n",
       "</style>\n",
       "<table border=\"1\" class=\"dataframe\">\n",
       "  <thead>\n",
       "    <tr style=\"text-align: right;\">\n",
       "      <th></th>\n",
       "      <th>foto_mes</th>\n",
       "      <th>cantidad</th>\n",
       "    </tr>\n",
       "  </thead>\n",
       "  <tbody>\n",
       "    <tr>\n",
       "      <th>0</th>\n",
       "      <td>202103</td>\n",
       "      <td>163324</td>\n",
       "    </tr>\n",
       "    <tr>\n",
       "      <th>1</th>\n",
       "      <td>202104</td>\n",
       "      <td>163637</td>\n",
       "    </tr>\n",
       "    <tr>\n",
       "      <th>2</th>\n",
       "      <td>202105</td>\n",
       "      <td>164102</td>\n",
       "    </tr>\n",
       "  </tbody>\n",
       "</table>\n",
       "</div>"
      ],
      "text/plain": [
       "   foto_mes  cantidad\n",
       "0    202103    163324\n",
       "1    202104    163637\n",
       "2    202105    164102"
      ]
     },
     "execution_count": 7,
     "metadata": {},
     "output_type": "execute_result"
    }
   ],
   "source": [
    "%%sql\n",
    "select \n",
    "    foto_mes\n",
    "    , count(*) as cantidad -- cuenta cuantos casos hay en cada foto_mes \n",
    "                           -- y lo guarda en un campo llamado cantidad\n",
    "from competencia_01\n",
    "group by foto_mes"
   ]
  },
  {
   "cell_type": "markdown",
   "metadata": {},
   "source": [
    "Perfecto, ahora cree una nueva tabla con la variable adicional que se le pide. Algunas funciones que le pueden ser útiles:  [where](https://duckdb.org/docs/sql/query_syntax/where), [left join](https://duckdb.org/docs/sql/query_syntax/from), [case statement](https://duckdb.org/docs/sql/expressions/case)\n",
    "\n"
   ]
  },
  {
   "cell_type": "code",
   "execution_count": 4,
   "metadata": {},
   "outputs": [
    {
     "data": {
      "text/html": [
       "<div>\n",
       "<style scoped>\n",
       "    .dataframe tbody tr th:only-of-type {\n",
       "        vertical-align: middle;\n",
       "    }\n",
       "\n",
       "    .dataframe tbody tr th {\n",
       "        vertical-align: top;\n",
       "    }\n",
       "\n",
       "    .dataframe thead th {\n",
       "        text-align: right;\n",
       "    }\n",
       "</style>\n",
       "<table border=\"1\" class=\"dataframe\">\n",
       "  <thead>\n",
       "    <tr style=\"text-align: right;\">\n",
       "      <th></th>\n",
       "      <th>Success</th>\n",
       "    </tr>\n",
       "  </thead>\n",
       "  <tbody>\n",
       "  </tbody>\n",
       "</table>\n",
       "</div>"
      ],
      "text/plain": [
       "Empty DataFrame\n",
       "Columns: [Success]\n",
       "Index: []"
      ]
     },
     "execution_count": 4,
     "metadata": {},
     "output_type": "execute_result"
    }
   ],
   "source": [
    "%%sql\n",
    "create or replace table competencia_01_m as \n",
    "\n",
    "select t0.*, \n",
    "case\n",
    "    WHEN (t0.foto_mes != 202103) THEN NULL \n",
    "    WHEN (t1.foto_mes is NULL) THEN 'BAJA+1'\n",
    "    WHEN (t2.foto_mes is NULL) THEN 'BAJA+2'\n",
    "    ELSE 'CONTINUA'\n",
    "END as clase_ternaria\n",
    "from competencia_01 t0\n",
    "LEFT JOIN competencia_01 t1\n",
    "ON (t0.numero_de_cliente = t1.numero_de_cliente)\n",
    "AND (t0.foto_mes + 1 = t1.foto_mes)\n",
    "LEFT JOIN competencia_01 t2\n",
    "ON (t0.numero_de_cliente = t2.numero_de_cliente)\n",
    "AND (t0.foto_mes + 2 = t2.foto_mes)"
   ]
  },
  {
   "cell_type": "markdown",
   "metadata": {},
   "source": [
    "## Ejercicio 1.1\n",
    "\n",
    "* ¿Cuál es la nominalidad de cada clase?\n",
    "* ¿Cuál es la proporción del target?"
   ]
  },
  {
   "cell_type": "code",
   "execution_count": null,
   "metadata": {},
   "outputs": [],
   "source": [
    "%%sql\n",
    "-- introduzca sus queries"
   ]
  },
  {
   "cell_type": "markdown",
   "metadata": {},
   "source": [
    "Para guardar a un **.csv** simplemente debe ejecutar la siguiente sentencia"
   ]
  },
  {
   "cell_type": "code",
   "execution_count": 5,
   "metadata": {},
   "outputs": [
    {
     "data": {
      "text/html": [
       "<div>\n",
       "<style scoped>\n",
       "    .dataframe tbody tr th:only-of-type {\n",
       "        vertical-align: middle;\n",
       "    }\n",
       "\n",
       "    .dataframe tbody tr th {\n",
       "        vertical-align: top;\n",
       "    }\n",
       "\n",
       "    .dataframe thead th {\n",
       "        text-align: right;\n",
       "    }\n",
       "</style>\n",
       "<table border=\"1\" class=\"dataframe\">\n",
       "  <thead>\n",
       "    <tr style=\"text-align: right;\">\n",
       "      <th></th>\n",
       "      <th>Success</th>\n",
       "    </tr>\n",
       "  </thead>\n",
       "  <tbody>\n",
       "  </tbody>\n",
       "</table>\n",
       "</div>"
      ],
      "text/plain": [
       "Empty DataFrame\n",
       "Columns: [Success]\n",
       "Index: []"
      ]
     },
     "execution_count": 5,
     "metadata": {},
     "output_type": "execute_result"
    }
   ],
   "source": [
    "%%sql\n",
    "COPY competencia_01 TO 'C:\\Users\\Administrator\\Documents\\MaestriaDataMining\\dmeyf2023\\datasets\\competencia_01.csv' (FORMAT CSV, HEADER)"
   ]
  },
  {
   "cell_type": "markdown",
   "metadata": {},
   "source": [
    "## Ejercicio 2 - Avanzado\n",
    "Use ahora el archivo `ejercicio_target.csv` y calcule para todos los clientes en todos los periodos su **clase_ternaria** al mismo tiempo"
   ]
  }
 ],
 "metadata": {
  "kernelspec": {
   "display_name": "Python 3",
   "language": "python",
   "name": "python3"
  },
  "language_info": {
   "codemirror_mode": {
    "name": "ipython",
    "version": 3
   },
   "file_extension": ".py",
   "mimetype": "text/x-python",
   "name": "python",
   "nbconvert_exporter": "python",
   "pygments_lexer": "ipython3",
   "version": "3.11.5"
  },
  "orig_nbformat": 4
 },
 "nbformat": 4,
 "nbformat_minor": 2
}
